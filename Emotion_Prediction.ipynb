{
  "nbformat": 4,
  "nbformat_minor": 0,
  "metadata": {
    "colab": {
      "provenance": []
    },
    "kernelspec": {
      "name": "python3",
      "display_name": "Python 3"
    },
    "language_info": {
      "name": "python"
    }
  },
  "cells": [
    {
      "cell_type": "code",
      "execution_count": 1,
      "metadata": {
        "id": "w6PlvIZiSbKa"
      },
      "outputs": [],
      "source": [
        "import pandas as pd\n",
        "import tensorflow as tf\n",
        "import matplotlib.pyplot as plt\n",
        "from sklearn.model_selection import train_test_split\n",
        "from tensorflow.keras.preprocessing.text import Tokenizer\n",
        "from tensorflow.keras.preprocessing.sequence import pad_sequences"
      ]
    },
    {
      "cell_type": "code",
      "source": [
        "df = pd.read_csv(\"/content/Emotion_final.csv\")\n",
        "df.info()"
      ],
      "metadata": {
        "colab": {
          "base_uri": "https://localhost:8080/"
        },
        "id": "OsfYY0vjSkwF",
        "outputId": "b63e3e8c-2b98-4054-814a-276e42a5382c"
      },
      "execution_count": 2,
      "outputs": [
        {
          "output_type": "stream",
          "name": "stdout",
          "text": [
            "<class 'pandas.core.frame.DataFrame'>\n",
            "RangeIndex: 21459 entries, 0 to 21458\n",
            "Data columns (total 2 columns):\n",
            " #   Column   Non-Null Count  Dtype \n",
            "---  ------   --------------  ----- \n",
            " 0   Text     21459 non-null  object\n",
            " 1   Emotion  21459 non-null  object\n",
            "dtypes: object(2)\n",
            "memory usage: 335.4+ KB\n"
          ]
        }
      ]
    },
    {
      "cell_type": "code",
      "source": [
        "# melakukan proses one-hot-encoding dan membuat dataframe baru\n",
        "category = pd.get_dummies(df.Emotion)\n",
        "df_baru = pd.concat([df, category], axis=1)\n",
        "df_baru = df_baru.drop(columns='Emotion')\n",
        "df_baru"
      ],
      "metadata": {
        "colab": {
          "base_uri": "https://localhost:8080/",
          "height": 424
        },
        "id": "AyjlIHnwStiL",
        "outputId": "acafca5c-9725-4521-9713-bb15fded694a"
      },
      "execution_count": 3,
      "outputs": [
        {
          "output_type": "execute_result",
          "data": {
            "text/plain": [
              "                                                    Text  anger  fear  happy  \\\n",
              "0                                i didnt feel humiliated      0     0      0   \n",
              "1      i can go from feeling so hopeless to so damned...      0     0      0   \n",
              "2       im grabbing a minute to post i feel greedy wrong      1     0      0   \n",
              "3      i am ever feeling nostalgic about the fireplac...      0     0      0   \n",
              "4                                   i am feeling grouchy      1     0      0   \n",
              "...                                                  ...    ...   ...    ...   \n",
              "21454               Melissa stared at her friend in dism      0     1      0   \n",
              "21455  Successive state elections have seen the gover...      0     1      0   \n",
              "21456               Vincent was irritated but not dismay      0     1      0   \n",
              "21457  Kendall-Hume turned back to face the dismayed ...      0     1      0   \n",
              "21458                    I am dismayed , but not surpris      0     1      0   \n",
              "\n",
              "       love  sadness  surprise  \n",
              "0         0        1         0  \n",
              "1         0        1         0  \n",
              "2         0        0         0  \n",
              "3         1        0         0  \n",
              "4         0        0         0  \n",
              "...     ...      ...       ...  \n",
              "21454     0        0         0  \n",
              "21455     0        0         0  \n",
              "21456     0        0         0  \n",
              "21457     0        0         0  \n",
              "21458     0        0         0  \n",
              "\n",
              "[21459 rows x 7 columns]"
            ],
            "text/html": [
              "\n",
              "  <div id=\"df-93a21fee-84d2-4a27-b7bb-3bfb45db79a5\">\n",
              "    <div class=\"colab-df-container\">\n",
              "      <div>\n",
              "<style scoped>\n",
              "    .dataframe tbody tr th:only-of-type {\n",
              "        vertical-align: middle;\n",
              "    }\n",
              "\n",
              "    .dataframe tbody tr th {\n",
              "        vertical-align: top;\n",
              "    }\n",
              "\n",
              "    .dataframe thead th {\n",
              "        text-align: right;\n",
              "    }\n",
              "</style>\n",
              "<table border=\"1\" class=\"dataframe\">\n",
              "  <thead>\n",
              "    <tr style=\"text-align: right;\">\n",
              "      <th></th>\n",
              "      <th>Text</th>\n",
              "      <th>anger</th>\n",
              "      <th>fear</th>\n",
              "      <th>happy</th>\n",
              "      <th>love</th>\n",
              "      <th>sadness</th>\n",
              "      <th>surprise</th>\n",
              "    </tr>\n",
              "  </thead>\n",
              "  <tbody>\n",
              "    <tr>\n",
              "      <th>0</th>\n",
              "      <td>i didnt feel humiliated</td>\n",
              "      <td>0</td>\n",
              "      <td>0</td>\n",
              "      <td>0</td>\n",
              "      <td>0</td>\n",
              "      <td>1</td>\n",
              "      <td>0</td>\n",
              "    </tr>\n",
              "    <tr>\n",
              "      <th>1</th>\n",
              "      <td>i can go from feeling so hopeless to so damned...</td>\n",
              "      <td>0</td>\n",
              "      <td>0</td>\n",
              "      <td>0</td>\n",
              "      <td>0</td>\n",
              "      <td>1</td>\n",
              "      <td>0</td>\n",
              "    </tr>\n",
              "    <tr>\n",
              "      <th>2</th>\n",
              "      <td>im grabbing a minute to post i feel greedy wrong</td>\n",
              "      <td>1</td>\n",
              "      <td>0</td>\n",
              "      <td>0</td>\n",
              "      <td>0</td>\n",
              "      <td>0</td>\n",
              "      <td>0</td>\n",
              "    </tr>\n",
              "    <tr>\n",
              "      <th>3</th>\n",
              "      <td>i am ever feeling nostalgic about the fireplac...</td>\n",
              "      <td>0</td>\n",
              "      <td>0</td>\n",
              "      <td>0</td>\n",
              "      <td>1</td>\n",
              "      <td>0</td>\n",
              "      <td>0</td>\n",
              "    </tr>\n",
              "    <tr>\n",
              "      <th>4</th>\n",
              "      <td>i am feeling grouchy</td>\n",
              "      <td>1</td>\n",
              "      <td>0</td>\n",
              "      <td>0</td>\n",
              "      <td>0</td>\n",
              "      <td>0</td>\n",
              "      <td>0</td>\n",
              "    </tr>\n",
              "    <tr>\n",
              "      <th>...</th>\n",
              "      <td>...</td>\n",
              "      <td>...</td>\n",
              "      <td>...</td>\n",
              "      <td>...</td>\n",
              "      <td>...</td>\n",
              "      <td>...</td>\n",
              "      <td>...</td>\n",
              "    </tr>\n",
              "    <tr>\n",
              "      <th>21454</th>\n",
              "      <td>Melissa stared at her friend in dism</td>\n",
              "      <td>0</td>\n",
              "      <td>1</td>\n",
              "      <td>0</td>\n",
              "      <td>0</td>\n",
              "      <td>0</td>\n",
              "      <td>0</td>\n",
              "    </tr>\n",
              "    <tr>\n",
              "      <th>21455</th>\n",
              "      <td>Successive state elections have seen the gover...</td>\n",
              "      <td>0</td>\n",
              "      <td>1</td>\n",
              "      <td>0</td>\n",
              "      <td>0</td>\n",
              "      <td>0</td>\n",
              "      <td>0</td>\n",
              "    </tr>\n",
              "    <tr>\n",
              "      <th>21456</th>\n",
              "      <td>Vincent was irritated but not dismay</td>\n",
              "      <td>0</td>\n",
              "      <td>1</td>\n",
              "      <td>0</td>\n",
              "      <td>0</td>\n",
              "      <td>0</td>\n",
              "      <td>0</td>\n",
              "    </tr>\n",
              "    <tr>\n",
              "      <th>21457</th>\n",
              "      <td>Kendall-Hume turned back to face the dismayed ...</td>\n",
              "      <td>0</td>\n",
              "      <td>1</td>\n",
              "      <td>0</td>\n",
              "      <td>0</td>\n",
              "      <td>0</td>\n",
              "      <td>0</td>\n",
              "    </tr>\n",
              "    <tr>\n",
              "      <th>21458</th>\n",
              "      <td>I am dismayed , but not surpris</td>\n",
              "      <td>0</td>\n",
              "      <td>1</td>\n",
              "      <td>0</td>\n",
              "      <td>0</td>\n",
              "      <td>0</td>\n",
              "      <td>0</td>\n",
              "    </tr>\n",
              "  </tbody>\n",
              "</table>\n",
              "<p>21459 rows × 7 columns</p>\n",
              "</div>\n",
              "      <button class=\"colab-df-convert\" onclick=\"convertToInteractive('df-93a21fee-84d2-4a27-b7bb-3bfb45db79a5')\"\n",
              "              title=\"Convert this dataframe to an interactive table.\"\n",
              "              style=\"display:none;\">\n",
              "        \n",
              "  <svg xmlns=\"http://www.w3.org/2000/svg\" height=\"24px\"viewBox=\"0 0 24 24\"\n",
              "       width=\"24px\">\n",
              "    <path d=\"M0 0h24v24H0V0z\" fill=\"none\"/>\n",
              "    <path d=\"M18.56 5.44l.94 2.06.94-2.06 2.06-.94-2.06-.94-.94-2.06-.94 2.06-2.06.94zm-11 1L8.5 8.5l.94-2.06 2.06-.94-2.06-.94L8.5 2.5l-.94 2.06-2.06.94zm10 10l.94 2.06.94-2.06 2.06-.94-2.06-.94-.94-2.06-.94 2.06-2.06.94z\"/><path d=\"M17.41 7.96l-1.37-1.37c-.4-.4-.92-.59-1.43-.59-.52 0-1.04.2-1.43.59L10.3 9.45l-7.72 7.72c-.78.78-.78 2.05 0 2.83L4 21.41c.39.39.9.59 1.41.59.51 0 1.02-.2 1.41-.59l7.78-7.78 2.81-2.81c.8-.78.8-2.07 0-2.86zM5.41 20L4 18.59l7.72-7.72 1.47 1.35L5.41 20z\"/>\n",
              "  </svg>\n",
              "      </button>\n",
              "      \n",
              "  <style>\n",
              "    .colab-df-container {\n",
              "      display:flex;\n",
              "      flex-wrap:wrap;\n",
              "      gap: 12px;\n",
              "    }\n",
              "\n",
              "    .colab-df-convert {\n",
              "      background-color: #E8F0FE;\n",
              "      border: none;\n",
              "      border-radius: 50%;\n",
              "      cursor: pointer;\n",
              "      display: none;\n",
              "      fill: #1967D2;\n",
              "      height: 32px;\n",
              "      padding: 0 0 0 0;\n",
              "      width: 32px;\n",
              "    }\n",
              "\n",
              "    .colab-df-convert:hover {\n",
              "      background-color: #E2EBFA;\n",
              "      box-shadow: 0px 1px 2px rgba(60, 64, 67, 0.3), 0px 1px 3px 1px rgba(60, 64, 67, 0.15);\n",
              "      fill: #174EA6;\n",
              "    }\n",
              "\n",
              "    [theme=dark] .colab-df-convert {\n",
              "      background-color: #3B4455;\n",
              "      fill: #D2E3FC;\n",
              "    }\n",
              "\n",
              "    [theme=dark] .colab-df-convert:hover {\n",
              "      background-color: #434B5C;\n",
              "      box-shadow: 0px 1px 3px 1px rgba(0, 0, 0, 0.15);\n",
              "      filter: drop-shadow(0px 1px 2px rgba(0, 0, 0, 0.3));\n",
              "      fill: #FFFFFF;\n",
              "    }\n",
              "  </style>\n",
              "\n",
              "      <script>\n",
              "        const buttonEl =\n",
              "          document.querySelector('#df-93a21fee-84d2-4a27-b7bb-3bfb45db79a5 button.colab-df-convert');\n",
              "        buttonEl.style.display =\n",
              "          google.colab.kernel.accessAllowed ? 'block' : 'none';\n",
              "\n",
              "        async function convertToInteractive(key) {\n",
              "          const element = document.querySelector('#df-93a21fee-84d2-4a27-b7bb-3bfb45db79a5');\n",
              "          const dataTable =\n",
              "            await google.colab.kernel.invokeFunction('convertToInteractive',\n",
              "                                                     [key], {});\n",
              "          if (!dataTable) return;\n",
              "\n",
              "          const docLinkHtml = 'Like what you see? Visit the ' +\n",
              "            '<a target=\"_blank\" href=https://colab.research.google.com/notebooks/data_table.ipynb>data table notebook</a>'\n",
              "            + ' to learn more about interactive tables.';\n",
              "          element.innerHTML = '';\n",
              "          dataTable['output_type'] = 'display_data';\n",
              "          await google.colab.output.renderOutput(dataTable, element);\n",
              "          const docLink = document.createElement('div');\n",
              "          docLink.innerHTML = docLinkHtml;\n",
              "          element.appendChild(docLink);\n",
              "        }\n",
              "      </script>\n",
              "    </div>\n",
              "  </div>\n",
              "  "
            ]
          },
          "metadata": {},
          "execution_count": 3
        }
      ]
    },
    {
      "cell_type": "code",
      "source": [
        "# mengubah nilai-nilai dari dataframe ke dalam tipe data numpy array \n",
        "text = df_baru[\"Text\"].values\n",
        "label = df_baru[[\"anger\", \"fear\", \"happy\", \"love\", \"sadness\", \"surprise\"]].values\n",
        "\n",
        "# membagi data set menjadi train dan test set\n",
        "text_latih, text_test, label_latih, label_test = train_test_split(text, label, test_size=0.2)"
      ],
      "metadata": {
        "id": "U6Pe7yMHS7r1"
      },
      "execution_count": 4,
      "outputs": []
    },
    {
      "cell_type": "code",
      "source": [
        "# proses tokenizer\n",
        "tokenizer = Tokenizer(num_words=5000, oov_token=\"x\")\n",
        "tokenizer.fit_on_texts(text_latih)\n",
        "tokenizer.fit_on_texts(text_test)\n",
        "\n",
        "sekuens_latih = tokenizer.texts_to_sequences(text_latih)\n",
        "sekuens_test = tokenizer.texts_to_sequences(text_test)\n",
        "\n",
        "# mengubah kalimat ke dalam sequence\n",
        "padded_latih = pad_sequences(sekuens_latih,\n",
        "                             padding=\"post\",\n",
        "                             maxlen=45,\n",
        "                             truncating=\"post\")\n",
        "padded_test = pad_sequences(sekuens_test,\n",
        "                            padding=\"post\",\n",
        "                            maxlen=45,\n",
        "                            truncating=\"post\")"
      ],
      "metadata": {
        "id": "PGAMnbNYT7y4"
      },
      "execution_count": 106,
      "outputs": []
    },
    {
      "cell_type": "code",
      "source": [
        "# pembuatan model menggunakan sequential\n",
        "model = tf.keras.Sequential([\n",
        "    tf.keras.layers.Embedding(input_dim=5000, output_dim=64),\n",
        "    tf.keras.layers.LSTM(64), # penggunaan teknik LSTM\n",
        "    tf.keras.layers.Dense(64, activation=\"relu\"),\n",
        "    tf.keras.layers.Dense(128, activation=\"relu\"),\n",
        "    tf.keras.layers.Dense(256, activation=\"relu\"),\n",
        "    tf.keras.layers.Dense(256, activation=\"relu\"),\n",
        "    tf.keras.layers.Dropout(0.2),\n",
        "    tf.keras.layers.Dense(64, activation=\"relu\"),\n",
        "    tf.keras.layers.Dense(6, activation=\"softmax\")\n",
        "])"
      ],
      "metadata": {
        "id": "IlKukFyZUI4C"
      },
      "execution_count": 107,
      "outputs": []
    },
    {
      "cell_type": "code",
      "source": [
        "# memanggil fungsi compile\n",
        "model.compile(loss='categorical_crossentropy',\n",
        "              optimizer='adam',\n",
        "              metrics=['accuracy'])"
      ],
      "metadata": {
        "id": "xWcvD_ALUPS8"
      },
      "execution_count": 108,
      "outputs": []
    },
    {
      "cell_type": "code",
      "source": [
        "# membuat callback\n",
        "class myCallback(tf.keras.callbacks.Callback):\n",
        "  def on_epoch_end(self, epoch, logs={}):\n",
        "    if(logs.get(\"accuracy\") > 0.9) and (logs.get(\"val_accuracy\") > 0.9):\n",
        "      print(\"\\nAkurasi telah mencapai >90%!\")\n",
        "      self.model.stop_training = True\n",
        "callbacks = myCallback()"
      ],
      "metadata": {
        "id": "TE0wM2slU1NG"
      },
      "execution_count": 109,
      "outputs": []
    },
    {
      "cell_type": "code",
      "source": [
        "# melatih model \n",
        "num_epochs = 30\n",
        "history = model.fit(padded_latih, label_latih,\n",
        "                    batch_size=32, # menambahkan batch loading\n",
        "                    epochs=num_epochs,\n",
        "                    validation_data=(padded_test, label_test),\n",
        "                    callbacks=[callbacks], # pemanggilan callbacks\n",
        "                    verbose=2)"
      ],
      "metadata": {
        "colab": {
          "base_uri": "https://localhost:8080/"
        },
        "id": "Gz-Do9pOU_n_",
        "outputId": "3fab56d2-4585-41fd-a562-5503e170a8f0"
      },
      "execution_count": 110,
      "outputs": [
        {
          "output_type": "stream",
          "name": "stdout",
          "text": [
            "Epoch 1/30\n",
            "537/537 - 74s - loss: 1.5912 - accuracy: 0.3170 - val_loss: 1.4919 - val_accuracy: 0.2894 - 74s/epoch - 138ms/step\n",
            "Epoch 2/30\n",
            "537/537 - 19s - loss: 1.1800 - accuracy: 0.4116 - val_loss: 1.0448 - val_accuracy: 0.4695 - 19s/epoch - 36ms/step\n",
            "Epoch 3/30\n",
            "537/537 - 19s - loss: 0.9348 - accuracy: 0.4841 - val_loss: 0.9028 - val_accuracy: 0.5405 - 19s/epoch - 36ms/step\n",
            "Epoch 4/30\n",
            "537/537 - 20s - loss: 0.7571 - accuracy: 0.5747 - val_loss: 0.7291 - val_accuracy: 0.5904 - 20s/epoch - 36ms/step\n",
            "Epoch 5/30\n",
            "537/537 - 20s - loss: 0.6078 - accuracy: 0.6512 - val_loss: 0.6574 - val_accuracy: 0.6475 - 20s/epoch - 38ms/step\n",
            "Epoch 6/30\n",
            "537/537 - 20s - loss: 0.5272 - accuracy: 0.7230 - val_loss: 0.5362 - val_accuracy: 0.8325 - 20s/epoch - 38ms/step\n",
            "Epoch 7/30\n",
            "537/537 - 20s - loss: 0.2228 - accuracy: 0.9254 - val_loss: 0.3196 - val_accuracy: 0.8956 - 20s/epoch - 37ms/step\n",
            "Epoch 8/30\n",
            "537/537 - 19s - loss: 0.1453 - accuracy: 0.9487 - val_loss: 0.3189 - val_accuracy: 0.8989 - 19s/epoch - 36ms/step\n",
            "Epoch 9/30\n",
            "\n",
            "Akurasi telah mencapai >90%!\n",
            "537/537 - 19s - loss: 0.1084 - accuracy: 0.9618 - val_loss: 0.3470 - val_accuracy: 0.9031 - 19s/epoch - 36ms/step\n"
          ]
        }
      ]
    },
    {
      "cell_type": "code",
      "source": [
        "acc = history.history[\"accuracy\"]\n",
        "val_accuracy = history.history[\"val_accuracy\"]\n",
        "epochs = range(len(acc))\n",
        "\n",
        "plt.plot(epochs, acc, label=\"Training accuracy\")\n",
        "plt.plot(epochs, val_accuracy, label=\"Validation accuracy\")\n",
        "plt.title(\"Training and Validation Accuracy\")\n",
        "plt.ylabel('Accuracy')\n",
        "plt.xlabel('Epoch')\n",
        "plt.legend(loc='lower right')\n",
        "plt.show()"
      ],
      "metadata": {
        "colab": {
          "base_uri": "https://localhost:8080/",
          "height": 295
        },
        "id": "kiLlOB9gsuv8",
        "outputId": "2e5bd638-7056-4bfe-899a-2f63511bebf7"
      },
      "execution_count": 114,
      "outputs": [
        {
          "output_type": "display_data",
          "data": {
            "text/plain": [
              "<Figure size 432x288 with 1 Axes>"
            ],
            "image/png": "[encoded data removed]"
          },
          "metadata": {
            "needs_background": "light"
          }
        }
      ]
    },
    {
      "cell_type": "code",
      "source": [
        "loss = history.history[\"loss\"]\n",
        "val_loss = history.history[\"val_loss\"]\n",
        "\n",
        "plt.plot(epochs, loss, label=\"Training loss\")\n",
        "plt.plot(epochs, val_loss, label=\"Validation loss\")\n",
        "plt.title(\"Training and Validation Loss\")\n",
        "plt.ylabel(\"Loss\")\n",
        "plt.xlabel(\"Epoch\")\n",
        "plt.legend(loc=\"upper right\")\n",
        "plt.show()"
      ],
      "metadata": {
        "colab": {
          "base_uri": "https://localhost:8080/",
          "height": 295
        },
        "id": "xUUj9vuYuYMV",
        "outputId": "d708b947-7eac-4255-cb3a-fd913575c35c"
      },
      "execution_count": 116,
      "outputs": [
        {
          "output_type": "display_data",
          "data": {
            "text/plain": [
              "<Figure size 432x288 with 1 Axes>"
            ],
            "image/png": "[encoded data removed]"
          },
          "metadata": {
            "needs_background": "light"
          }
        }
      ]
    }
  ]
}
